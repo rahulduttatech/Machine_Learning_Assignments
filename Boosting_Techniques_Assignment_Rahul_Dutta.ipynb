{
  "nbformat": 4,
  "nbformat_minor": 0,
  "metadata": {
    "colab": {
      "provenance": []
    },
    "kernelspec": {
      "name": "python3",
      "display_name": "Python 3"
    },
    "language_info": {
      "name": "python"
    }
  },
  "cells": [
    {
      "cell_type": "markdown",
      "source": [
        "\n",
        "**Theoretical**\n",
        "\n",
        "**Q1. What is Boosting in Machine Learning?**\n",
        "\n",
        "**ANS-** Boosting is a popular machine learning technique used for classification and regression tasks. It's an ensemble learning method that combines multiple weak models to create a strong predictive model. Here's a detailed overview:\n",
        "\n",
        "How Boosting Works:\n",
        "\n",
        "    1. Initialize a weak model: Start with a simple model (e.g., decision tree) that's slightly better than random guessing.\n",
        "    2. Calculate errors: Evaluate the performance of the initial model on the training data and calculate the errors.\n",
        "    3. Weighting: Assign weights to each sample based on the errors. Samples with higher errors receive higher weights.\n",
        "    4. Train a new model: Train a new weak model on the weighted samples.\n",
        "    5. Combine models: Combine the predictions of the new model with the previous models.\n",
        "    6. Repeat: Repeat steps 2-5 until a specified number of iterations or a desired level of performance is reached.\n",
        "\n",
        "**Q2. How does Boosting differ from Bagging?**\n",
        "\n",
        "**ANS-** Boosting and Bagging are both ensemble learning techniques used in machine learning, but they differ in their approach and application:\n",
        "\n",
        "Bagging (Bootstrap Aggregating)\n",
        "\n",
        "    1. Parallel training: Bagging trains multiple models in parallel on different subsets of the training data.\n",
        "    2. Random sampling: Each model is trained on a random subset of the training data, with replacement.\n",
        "    3. Equal weighting: Each model has an equal weight in the final prediction.\n",
        "    4. Reduces variance: Bagging reduces the variance of the model by averaging the predictions.\n",
        "\n",
        "Boosting\n",
        "\n",
        "    1. Sequential training: Boosting trains models sequentially, with each new model attempting to correct the errors of the previous model.\n",
        "    2. Weighted sampling: Boosting uses weighted sampling, where samples with higher errors receive higher weights.\n",
        "    3. Weighted voting: Each model has a weighted vote in the final prediction, with higher weights given to models that perform better.\n",
        "    4. Reduces bias and variance: Boosting reduces both bias and variance by iteratively improving the model.\n",
        "\n",
        "**Q3. What is the key idea behind AdaBoost?**\n",
        "\n",
        "**ANS-** The key idea behind AdaBoost (Adaptive Boosting) is to:\n",
        "\n",
        "Iteratively train weak models to correct the errors of previous models, with a focus on difficult-to-classify samples.\n",
        "\n",
        "Here's a step-by-step breakdown:\n",
        "\n",
        "    1. Initialize a weak model: Start with a simple model (e.g., decision tree) that's slightly better than random guessing.\n",
        "    2. Calculate errors: Evaluate the performance of the initial model on the training data and calculate the errors.\n",
        "    3. Assign weights: Assign weights to each sample based on the errors. Samples with higher errors receive higher weights.\n",
        "    4. Train a new model: Train a new weak model on the weighted samples.\n",
        "    5. Update weights: Update the weights for each sample based on the performance of the new model.\n",
        "    6. Repeat: Repeat steps 2-5 until a specified number of iterations or a desired level of performance is reached.\n",
        "\n",
        "Key aspects:\n",
        "\n",
        "  1. Weighting: AdaBoost uses weighting to focus on difficult-to-classify samples.\n",
        "  2.  Iterative training: AdaBoost trains models iteratively, with each new model attempting to correct the errors of the previous model.\n",
        " 3. Weak models: AdaBoost uses weak models, which are simple models that are slightly better than random guessing.\n",
        "\n",
        "**Q4. Explain the working of AdaBoost with an example.**\n",
        "\n",
        "**ANS-** Here's an example to illustrate the working of AdaBoost:\n",
        "\n",
        "Example:\n",
        "\n",
        "Suppose we want to classify animals into two categories: \"mammals\" and \"non-mammals\". We have a dataset of 10 animals with their characteristics.\n",
        "\n",
        "We'll use AdaBoost to classify these animals.\n",
        "\n",
        "**Q5. What is Gradient Boosting, and how is it different from AdaBoost?**\n",
        "\n",
        "**ANS-** Gradient Boosting is a popular machine learning algorithm used for classification and regression tasks. It's an ensemble learning method that combines multiple weak models to create a strong predictive model.\n",
        "\n",
        "How Gradient Boosting Works:\n",
        "\n",
        "    1. Initialize a weak model: Start with a simple model (e.g., decision tree) that's slightly better than random guessing.\n",
        "    2. Calculate the residual: Calculate the residual (error) between the predicted values and the actual values.\n",
        "    3. Train a new model: Train a new decision tree model on the residual.\n",
        "    4. Update the predictions: Update the predictions by adding the predictions from the new model.\n",
        "    5. Repeat: Repeat steps 2-4 until a specified number of iterations or a desired level of performance is reached.\n",
        "\n",
        "Key Differences between Gradient Boosting and AdaBoost:\n",
        "\n",
        "    1. Loss function: Gradient Boosting uses a different loss function than AdaBoost. Gradient Boosting uses a loss function that's based on the residual, while AdaBoost uses a loss function that's based on the error rate.\n",
        "    2. Weighting: Gradient Boosting doesn't use weighting like AdaBoost. Instead, it uses the residual to train the next model.\n",
        "    3. Model complexity: Gradient Boosting can handle more complex models than AdaBoost, since it's based on the residual rather than the error rate.\n",
        "    4. Handling missing values: Gradient Boosting can handle missing values more effectively than AdaBoost, since it's based on the residual rather than the error rate.\n",
        "\n",
        "**Q6. What is the loss function in Gradient Boosting?**\n",
        "\n",
        "**ANS-** The loss function in Gradient Boosting is a crucial component that determines how the algorithm learns from the data.\n",
        "\n",
        "Common Loss Functions in Gradient Boosting:\n",
        "\n",
        "    1. Mean Squared Error (MSE): Used for regression tasks, MSE measures the average squared difference between predicted and actual values.\n",
        "    2. Mean Absolute Error (MAE): Also used for regression tasks, MAE measures the average absolute difference between predicted and actual values.\n",
        "    3. Binary Cross-Entropy (Log Loss): Used for binary classification tasks, Log Loss measures the difference between predicted probabilities and actual labels.\n",
        "    4. Multi-Class Cross-Entropy: Used for multi-class classification tasks, Multi-Class Cross-Entropy measures the difference between predicted probabilities and actual labels.\n",
        "\n",
        "How Gradient Boosting Uses the Loss Function:\n",
        "\n",
        "    1. Residual calculation: Gradient Boosting calculates the residual (error) between the predicted values and the actual values using the chosen loss function.\n",
        "    2. Gradient calculation: The gradient of the loss function is calculated with respect to the predicted values. This gradient represents the direction of the steepest ascent.\n",
        "    3. Model update: The model is updated by moving in the direction of the negative gradient. The step size is determined by the learning rate.\n",
        "\n",
        "**Q7. How does XGBoost improve over traditional Gradient Boosting?**\n",
        "\n",
        "**ANS-** XGBoost (Extreme Gradient Boosting) is an optimized distributed gradient boosting library designed to be highly efficient, flexible, and portable. It improves upon traditional Gradient Boosting in several ways:\n",
        "\n",
        "    1. Handling Missing Values:\n",
        "\n",
        "XGBoost can handle missing values in the data, which is a common problem in many real-world datasets. It does this by:\n",
        "\n",
        "    * Using a separate missing value handler for each feature.\n",
        "    * Allowing users to specify a default value for missing values.\n",
        "\n",
        "    2. Tree Pruning:\n",
        "\n",
        "XGBoost uses a more efficient tree pruning algorithm, which helps to:\n",
        "\n",
        "    * Reduce the complexity of the model.\n",
        "    * Improve the model's generalization ability.\n",
        "\n",
        "    3. Column Subsampling:\n",
        "\n",
        "XGBoost allows users to subsample the columns (features) of the data, which helps to:\n",
        "\n",
        "    * Reduce overfitting.\n",
        "    * Improve the model's robustness.\n",
        "\n",
        "    4. Regularization:\n",
        "\n",
        "XGBoost includes regularization techniques, such as:\n",
        "\n",
        "    * L1 regularization (Lasso).\n",
        "    * L2 regularization (Ridge).\n",
        "\n",
        "These techniques help to:\n",
        "\n",
        "    * Reduce overfitting.\n",
        "    * Improve the model's generalization ability.\n",
        "\n",
        "    5. Distributed Computing:\n",
        "\n",
        "XGBoost is designed to be highly scalable and can handle large datasets by:\n",
        "\n",
        "    * Distributing the computation across multiple machines.\n",
        "    * Using parallel processing.\n",
        "\n",
        "    6. Cache Optimization:\n",
        "\n",
        "XGBoost optimizes the use of cache memory, which helps to:\n",
        "\n",
        "    * Improve the model's performance.\n",
        "    * Reduce the computation time.\n",
        "\n",
        "    7. Support for Custom Objective Functions:\n",
        "\n",
        "XGBoost allows users to define custom objective functions, which helps to:\n",
        "\n",
        "    * Handle non-standard loss functions.\n",
        "    * Implement domain-specific knowledge.\n",
        "\n",
        "    8. Early Stopping:\n",
        "\n",
        "XGBoost includes an early stopping mechanism, which helps to:\n",
        "\n",
        "    * Prevent overfitting.\n",
        "    * Improve the model's generalization ability.\n",
        "\n",
        "**Q8. What is the difference between XGBoost and CatBoost?**\n",
        "\n",
        "**ANS-** Key differences are:\n",
        "\n",
        "Differences:\n",
        "\n",
        "    1. Handling categorical features: XGBoost treats categorical features as numerical features, which can lead to poor performance if the categories are not ordered. CatBoost, on the other hand, has built-in support for categorical features and can handle them more effectively.\n",
        "    2. Encoding categorical features: CatBoost uses a technique called \"target encoding\" or \"label encoding\" to encode categorical features, which helps to reduce overfitting. XGBoost does not have this feature built-in.\n",
        "    3. Gradient boosting implementation: XGBoost uses a more traditional gradient boosting implementation, while CatBoost uses a more efficient and parallelizable implementation.\n",
        "    4. Hyperparameter tuning: CatBoost has a more automated hyperparameter tuning process, which can help users find the optimal hyperparameters more quickly.\n",
        "    5. Support for text features: CatBoost has built-in support for text features, while XGBoost does not.\n",
        "    6. GPU support: Both libraries support GPU acceleration, but CatBoost's GPU support is more extensive.\n",
        "\n",
        "\n",
        "**Q9. What are some real-world applications of Boosting techniques?**\n",
        "\n",
        "**ANS-** Boosting techniques, including AdaBoost, Gradient Boosting, XGBoost, and CatBoost, have numerous real-world applications across various industries:\n",
        "\n",
        "    1. Finance:\n",
        "\n",
        "    * Credit risk assessment: Boosting techniques can help predict the likelihood of loan defaults or credit card delinquencies.\n",
        "\n",
        "    * Stock market prediction: Boosting models can analyze historical stock prices, financial statements, and economic indicators to predict future stock prices.\n",
        "\n",
        "    * Portfolio optimization: Boosting techniques can help optimize investment portfolios by identifying the most profitable assets and minimizing risk.\n",
        "\n",
        "    2. Healthcare:\n",
        "\n",
        "    * Disease diagnosis: Boosting models can analyze medical images, lab results, and patient data to diagnose diseases such as cancer, diabetes, or cardiovascular disease.\n",
        "\n",
        "    * Patient outcome prediction: Boosting techniques can predict patient outcomes, such as the likelihood of readmission or mortality.\n",
        "\n",
        "    * Personalized medicine: Boosting models can help personalize treatment plans based on individual patient characteristics.\n",
        "\n",
        "    3. Marketing and Advertising:\n",
        "\n",
        "    * Customer segmentation: Boosting techniques can help segment customers based on demographics, behavior, and preferences.\n",
        "\n",
        "    * Churn prediction: Boosting models can predict the likelihood of customer churn, enabling targeted retention strategies.\n",
        "\n",
        "    * Recommendation systems: Boosting techniques can power recommendation systems, suggesting products or services based on user behavior and preferences.\n",
        "\n",
        "    4. Transportation and Logistics:\n",
        "\n",
        "    * Route optimization: Boosting models can optimize routes for delivery trucks, taxis, or ride-sharing services, reducing fuel consumption and emissions.\n",
        "\n",
        "    * Traffic prediction: Boosting techniques can predict traffic congestion, enabling real-time traffic management and optimization.\n",
        "\n",
        "    * Autonomous vehicles: Boosting models can help autonomous vehicles detect and respond to their environment, improving safety and efficiency.\n",
        "\n",
        "    5. Natural Language Processing (NLP):\n",
        "\n",
        "    * Sentiment analysis: Boosting techniques can analyze text data to determine sentiment, such as positive, negative, or neutral.\n",
        "\n",
        "    * Text classification: Boosting models can classify text into categories, such as spam vs. non-spam emails.\n",
        "\n",
        "    * Language translation: Boosting techniques can improve language translation accuracy by analyzing context and syntax.\n",
        "\n",
        "    6. Computer Vision:\n",
        "\n",
        "    * Image classification: Boosting models can classify images into categories, such as objects, scenes, or actions.\n",
        "\n",
        "    * Object detection: Boosting techniques can detect objects within images, such as pedestrians, cars, or buildings.\n",
        "\n",
        "    * Image segmentation: Boosting models can segment images into regions of interest, such as tumors in medical images.\n",
        "\n",
        "**Q10. How does regularization help in XGBoost?**\n",
        "\n",
        "**ANS-** Regularization helps in XGBoost in several ways:\n",
        "\n",
        "    1. Prevents overfitting: Regularization prevents the model from fitting the noise in the training data, which can lead to overfitting.\n",
        "    2. Improves generalization: Regularization helps the model to generalize better to new, unseen data by reducing its complexity.\n",
        "    3. Reduces feature dominance: Regularization can help reduce the dominance of a single feature in the model, which can lead to better performance.\n",
        "    4. Improves interpretability: Regularization can help improve the interpretability of the model by reducing the number of features with large weights.\n",
        "\n",
        "**Q11. What are some hyperparameters to tune in Gradient Boosting models?**\n",
        "\n",
        "**ANS-** Hyperparameter tuning is a crucial step in training Gradient Boosting models. Here are some key hyperparameters to tune:\n",
        "\n",
        "    1. Learning Rate (eta or learning_rate):\n",
        "\n",
        "    * Controls the step size of each iteration.\n",
        "    * Lower values (e.g., 0.01-0.1) can lead to more accurate models but may require more iterations.\n",
        "    * Higher values (e.g., 0.5-1.0) can lead to faster convergence but may result in less accurate models.\n",
        "\n",
        "    2. Number of Estimators (n_estimators or num_boost_round):\n",
        "\n",
        "    * Controls the number of decision trees in the model.\n",
        "    * Increasing this value can improve accuracy but may lead to overfitting.\n",
        "    * Typical values range from 50 to 1000.\n",
        "\n",
        "    3. Maximum Depth (max_depth):\n",
        "\n",
        "    * Controls the maximum depth of each decision tree.\n",
        "    * Increasing this value can improve accuracy but may lead to overfitting.\n",
        "    * Typical values range from 3 to 10.\n",
        "\n",
        "    4. Minimum Samples per Leaf (min_samples_leaf or min_child_samples):\n",
        "\n",
        "    * Controls the minimum number of samples required to be at a leaf node.\n",
        "    * Increasing this value can prevent overfitting but may reduce accuracy.\n",
        "    * Typical values range from 1 to 10.\n",
        "\n",
        "    5. Subsample Ratio (subsample or bagging_fraction):\n",
        "\n",
        "    * Controls the proportion of samples used for each decision tree.\n",
        "    * Increasing this value can improve accuracy but may lead to overfitting.\n",
        "    * Typical values range from 0.5 to 1.0.\n",
        "\n",
        "    6. Column Subsample Ratio (colsample_bytree or feature_fraction):\n",
        "\n",
        "    * Controls the proportion of features used for each decision tree.\n",
        "    * Increasing this value can improve accuracy but may lead to overfitting.\n",
        "    * Typical values range from 0.5 to 1.0.\n",
        "\n",
        "    7. Regularization Parameters (alpha, lambda, or reg_alpha, reg_lambda):\n",
        "\n",
        "    * Controls the strength of L1 and L2 regularization.\n",
        "    * Increasing these values can prevent overfitting but may reduce accuracy.\n",
        "    * Typical values range from 0.0 to 1.0.\n",
        "\n",
        "    8. Early Stopping (early_stopping_rounds):\n",
        "\n",
        "    * Controls the number of iterations without improvement before stopping.\n",
        "    * Increasing this value can prevent overfitting but may lead to underfitting.\n",
        "    * Typical values range from 5 to 50.\n",
        "\n",
        "**Q12. What is the concept of Feature Importance in Boosting?**\n",
        "\n",
        "**ANS-** Feature importance is a measure of the impact of each feature on the predictions made by the Boosting model. It's a way to quantify the contribution of each feature to the model's performance.\n",
        "\n",
        "\n",
        "**Q13. Why is CatBoost efficient for categorical data?**\n",
        "\n",
        "**ANS-** CatBoost is a gradient boosting library specifically designed to handle categorical data efficiently. Here are some reasons why:\n",
        "\n",
        "1.  Target Encoding:\n",
        "\n",
        "CatBoost uses a technique called target encoding to handle categorical features. Target encoding involves replacing each categorical value with a numerical value that represents the average target value for that category.\n",
        "\n",
        "2. Hashing:\n",
        "\n",
        "CatBoost uses a hashing technique to reduce the dimensionality of categorical features. This allows CatBoost to handle categorical features with a large number of categories efficiently.\n",
        "\n",
        "3. Ordered Boosting:\n",
        "\n",
        "CatBoost uses an ordered boosting approach, which allows it to handle categorical features with a natural order (e.g., days of the week, months of the year).\n",
        "\n",
        "4. Efficient Handling of Missing Values:\n",
        "\n",
        "CatBoost can handle missing values in categorical features efficiently by treating them as a separate category.\n",
        "\n",
        "5. Parallelization:\n",
        "\n",
        "CatBoost is designed to take advantage of multi-core processors, which allows it to handle large datasets with categorical features efficiently.\n",
        "\n",
        "6. Optimized Memory Usage:\n",
        "\n",
        "CatBoost is optimized to use memory efficiently, which allows it to handle large datasets with categorical features without running out of memory.\n",
        "\n"
      ],
      "metadata": {
        "id": "wZTvp0mXUGfk"
      }
    },
    {
      "cell_type": "markdown",
      "source": [
        "**Practical**\n",
        "\n",
        "\n",
        "**Q14. Train an AdaBoost Classifier on a sample dataset and print model accuracy.**"
      ],
      "metadata": {
        "id": "BhHqPMlbZLq7"
      }
    },
    {
      "cell_type": "code",
      "source": [
        "\n",
        "\n",
        "\n",
        "\n",
        "import pandas as pd\n",
        "from sklearn.model_selection import train_test_split\n",
        "from sklearn.ensemble import AdaBoostClassifier\n",
        "from sklearn.metrics import accuracy_score\n",
        "from sklearn.datasets import make_classification\n",
        "\n",
        "# Generate a sample dataset\n",
        "X, y = make_classification(n_samples=1000, n_features=10, n_informative=5, n_redundant=0, random_state=42)\n",
        "\n",
        "# Split data into training and testing sets\n",
        "X_train, X_test, y_train, y_test = train_test_split(X, y, test_size=0.2, random_state=42)\n",
        "\n",
        "# Create and train an AdaBoost classifier\n",
        "ada_boost_classifier = AdaBoostClassifier(random_state=42)\n",
        "ada_boost_classifier.fit(X_train, y_train)\n",
        "\n",
        "# Make predictions on the test set\n",
        "y_pred = ada_boost_classifier.predict(X_test)\n",
        "\n",
        "# Evaluate the model's accuracy\n",
        "accuracy = accuracy_score(y_test, y_pred)\n",
        "print(\"AdaBoost Classifier Accuracy:\", accuracy)"
      ],
      "metadata": {
        "colab": {
          "base_uri": "https://localhost:8080/"
        },
        "id": "NLvqn7oaZJ85",
        "outputId": "5f98d39d-f6da-409a-d46d-8d0018171afd"
      },
      "execution_count": null,
      "outputs": [
        {
          "output_type": "stream",
          "name": "stdout",
          "text": [
            "AdaBoost Classifier Accuracy: 0.83\n"
          ]
        }
      ]
    },
    {
      "cell_type": "markdown",
      "source": [
        "**Q15. Train an AdaBoost Regressor and evaluate performance using Mean Absolute Error (MAE).**"
      ],
      "metadata": {
        "id": "fu03Jl9ScDuh"
      }
    },
    {
      "cell_type": "code",
      "source": [
        "from sklearn.ensemble import AdaBoostRegressor\n",
        "from sklearn.metrics import mean_absolute_error\n",
        "from sklearn.datasets import make_regression\n",
        "\n",
        "# Generate a sample regression dataset\n",
        "X, y = make_regression(n_samples=1000, n_features=10, n_informative=5, noise=0.1, random_state=42)\n",
        "\n",
        "# Split data into training and testing sets\n",
        "X_train, X_test, y_train, y_test = train_test_split(X, y, test_size=0.2, random_state=42)\n",
        "\n",
        "# Create and train an AdaBoost regressor\n",
        "ada_boost_regressor = AdaBoostRegressor(random_state=42)\n",
        "ada_boost_regressor.fit(X_train, y_train)\n",
        "\n",
        "# Make predictions on the test set\n",
        "y_pred = ada_boost_regressor.predict(X_test)\n",
        "\n",
        "# Evaluate the model using Mean Absolute Error (MAE)\n",
        "mae = mean_absolute_error(y_test, y_pred)\n",
        "print(\"AdaBoost Regressor MAE:\", mae)"
      ],
      "metadata": {
        "colab": {
          "base_uri": "https://localhost:8080/"
        },
        "id": "jiTFjN6YVXCh",
        "outputId": "757003a1-eee4-4dd7-b9f4-18775c5e740c"
      },
      "execution_count": null,
      "outputs": [
        {
          "output_type": "stream",
          "name": "stdout",
          "text": [
            "AdaBoost Regressor MAE: 16.691701268693954\n"
          ]
        }
      ]
    },
    {
      "cell_type": "markdown",
      "source": [
        "**Q16. Train a Gradient Boosting Classifier on the Breast Cancer dataset and print feature importance.**"
      ],
      "metadata": {
        "id": "2lIpea-dcjqf"
      }
    },
    {
      "cell_type": "code",
      "source": [
        "import pandas as pd\n",
        "from sklearn.model_selection import train_test_split\n",
        "from sklearn.ensemble import GradientBoostingClassifier\n",
        "from sklearn.datasets import load_breast_cancer\n",
        "\n",
        "# Load the breast cancer dataset\n",
        "data = load_breast_cancer()\n",
        "X, y = data.data, data.target\n",
        "\n",
        "# Split data into training and testing sets\n",
        "X_train, X_test, y_train, y_test = train_test_split(X, y, test_size=0.2, random_state=42)\n",
        "\n",
        "# Create and train a Gradient Boosting Classifier\n",
        "gbc = GradientBoostingClassifier(random_state=42)\n",
        "gbc.fit(X_train, y_train)\n",
        "\n",
        "# Print feature importances\n",
        "for i, feature_importance in enumerate(gbc.feature_importances_):\n",
        "    print(f\"Feature {i}: {feature_importance}\")\n"
      ],
      "metadata": {
        "colab": {
          "base_uri": "https://localhost:8080/"
        },
        "id": "a-wQlEwOcnib",
        "outputId": "81f2cdb0-7ef5-4b87-e04e-5e4fee928d1a"
      },
      "execution_count": null,
      "outputs": [
        {
          "output_type": "stream",
          "name": "stdout",
          "text": [
            "Feature 0: 1.292348076813499e-05\n",
            "Feature 1: 0.027804583634348873\n",
            "Feature 2: 0.00020118364232095282\n",
            "Feature 3: 0.0004254033042015456\n",
            "Feature 4: 0.0024666044618570173\n",
            "Feature 5: 0.0029960469868226245\n",
            "Feature 6: 0.0009222332874449441\n",
            "Feature 7: 0.4505275876506107\n",
            "Feature 8: 0.0005199404606719796\n",
            "Feature 9: 0.00010669160100635732\n",
            "Feature 10: 0.006870207891017868\n",
            "Feature 11: 0.003604013810768886\n",
            "Feature 12: 0.001156802373414802\n",
            "Feature 13: 0.008415272506866505\n",
            "Feature 14: 0.0005564528920603285\n",
            "Feature 15: 0.0025106349835955057\n",
            "Feature 16: 0.013067922820320132\n",
            "Feature 17: 0.0020381084784025583\n",
            "Feature 18: 0.0007028625799243465\n",
            "Feature 19: 0.004223933303430293\n",
            "Feature 20: 0.075588875185215\n",
            "Feature 21: 0.03988648003422685\n",
            "Feature 22: 0.05140821113749899\n",
            "Feature 23: 0.0382446945612126\n",
            "Feature 24: 0.004810830759634738\n",
            "Feature 25: 0.00045012158464117027\n",
            "Feature 26: 0.018724975674124462\n",
            "Feature 27: 0.24010308555229953\n",
            "Feature 28: 0.0014780084320603433\n",
            "Feature 29: 0.0001753069292319898\n"
          ]
        }
      ]
    },
    {
      "cell_type": "markdown",
      "source": [
        "**Q17. Train a Gradient Boosting Regressor and evaluate using R-Squared Score.**"
      ],
      "metadata": {
        "id": "mqHxIGpNcyw7"
      }
    },
    {
      "cell_type": "code",
      "source": [
        "from sklearn.ensemble import GradientBoostingRegressor\n",
        "from sklearn.metrics import r2_score\n",
        "from sklearn.datasets import make_regression\n",
        "from sklearn.model_selection import train_test_split\n",
        "\n",
        "# Generate a sample regression dataset\n",
        "X, y = make_regression(n_samples=1000, n_features=10, n_informative=5, noise=0.1, random_state=42)\n",
        "\n",
        "# Split data into training and testing sets\n",
        "X_train, X_test, y_train, y_test = train_test_split(X, y, test_size=0.2, random_state=42)\n",
        "\n",
        "# Create and train a Gradient Boosting Regressor\n",
        "gbr = GradientBoostingRegressor(random_state=42)\n",
        "gbr.fit(X_train, y_train)\n",
        "\n",
        "# Make predictions on the test set\n",
        "y_pred = gbr.predict(X_test)\n",
        "\n",
        "# Evaluate the model using R-squared score\n",
        "r2 = r2_score(y_test, y_pred)\n",
        "print(\"Gradient Boosting Regressor R-squared:\", r2)"
      ],
      "metadata": {
        "colab": {
          "base_uri": "https://localhost:8080/"
        },
        "id": "IomQPXmUc485",
        "outputId": "a8bb8580-73b1-4aa6-81a8-3f20d159e208"
      },
      "execution_count": null,
      "outputs": [
        {
          "output_type": "stream",
          "name": "stdout",
          "text": [
            "Gradient Boosting Regressor R-squared: 0.9782723326633272\n"
          ]
        }
      ]
    },
    {
      "cell_type": "markdown",
      "source": [
        "**Q18. Train an XGBoost Classifier on a dataset and compare accuracy with Gradient Boosting.**"
      ],
      "metadata": {
        "id": "P0D35R8lc8b-"
      }
    },
    {
      "cell_type": "code",
      "source": [
        "\n",
        "import xgboost as xgb\n",
        "from sklearn.metrics import accuracy_score\n",
        "#from sklearn.preprocessing import LabelEncoder # Removed unnecessary import\n",
        "\n",
        "\n",
        "# Assuming X, y, X_train, X_test, y_train, y_test are defined from previous code\n",
        "\n",
        "# Instead of Label Encoding, directly use the regression targets for XGBoost (treat as regression)\n",
        "#xgb_classifier = xgb.XGBClassifier(random_state=42) # Commented out, replaced with XGBRegressor\n",
        "xgb_regressor = xgb.XGBRegressor(random_state=42) # Using XGBRegressor for regression task\n",
        "xgb_regressor.fit(X_train, y_train) # Fit with original target values\n",
        "\n",
        "# Make predictions on the test set\n",
        "xgb_pred = xgb_regressor.predict(X_test)\n",
        "\n",
        "# Evaluate the model's accuracy using R-squared for regression\n",
        "xgb_r2 = r2_score(y_test, xgb_pred)\n",
        "print(\"XGBoost Regressor R-squared:\", xgb_r2)\n",
        "\n",
        "# Assuming gbr (GradientBoostingRegressor) is already trained from previous code\n",
        "gbr_pred = gbr.predict(X_test)\n",
        "gbr_r2 = r2_score(y_test, gbr_pred)  # Evaluate gbr using R-squared\n",
        "\n",
        "print(\"Gradient Boosting Regressor R-squared:\", gbr_r2)\n",
        "\n",
        "print(f\"XGBoost R-squared Improvement over Gradient Boosting: {xgb_r2 - gbr_r2}\")"
      ],
      "metadata": {
        "colab": {
          "base_uri": "https://localhost:8080/"
        },
        "id": "0XDe80-adNHB",
        "outputId": "55358909-855b-49e5-bea8-281387729071"
      },
      "execution_count": null,
      "outputs": [
        {
          "output_type": "stream",
          "name": "stdout",
          "text": [
            "XGBoost Regressor R-squared: 0.961781047058237\n",
            "Gradient Boosting Regressor R-squared: 0.9782723326633272\n",
            "XGBoost R-squared Improvement over Gradient Boosting: -0.016491285605090278\n"
          ]
        }
      ]
    },
    {
      "cell_type": "markdown",
      "source": [
        "**Q19. Train a CatBoost Classifier and evaluate using F1-Score.**"
      ],
      "metadata": {
        "id": "ytLl3fS4dSKl"
      }
    },
    {
      "cell_type": "code",
      "source": [
        "!pip install catboost\n",
        "import pandas as pd\n",
        "from sklearn.model_selection import train_test_split\n",
        "from sklearn.metrics import f1_score\n",
        "from catboost import CatBoostClassifier\n",
        "from sklearn.datasets import make_classification\n",
        "\n",
        "# Generate a sample dataset\n",
        "X, y = make_classification(n_samples=1000, n_features=10, n_informative=5, n_redundant=0, random_state=42)\n",
        "\n",
        "# Split data into training and testing sets\n",
        "X_train, X_test, y_train, y_test = train_test_split(X, y, test_size=0.2, random_state=42)\n",
        "\n",
        "# Create and train a CatBoost classifier\n",
        "catboost_classifier = CatBoostClassifier(iterations=100, random_state=42, verbose=0)\n",
        "catboost_classifier.fit(X_train, y_train)\n",
        "\n",
        "# Make predictions on the test set\n",
        "y_pred = catboost_classifier.predict(X_test)\n",
        "\n",
        "# Evaluate the model using F1-score\n",
        "f1 = f1_score(y_test, y_pred)\n",
        "print(\"CatBoost Classifier F1-Score:\", f1)"
      ],
      "metadata": {
        "id": "o0Cp9BBldqWC"
      },
      "execution_count": null,
      "outputs": []
    },
    {
      "cell_type": "markdown",
      "source": [
        "**Q20. Train an XGBoost Regressor and evaluate using Mean Squared Error (MSE).**"
      ],
      "metadata": {
        "id": "2TPbfJ06drW8"
      }
    },
    {
      "cell_type": "code",
      "source": [
        "import xgboost as xgb\n",
        "from sklearn.metrics import mean_squared_error\n",
        "from sklearn.model_selection import train_test_split\n",
        "from sklearn.datasets import make_regression\n",
        "\n",
        "# Generate a sample regression dataset\n",
        "X, y = make_regression(n_samples=1000, n_features=10, n_informative=5, noise=0.1, random_state=42)\n",
        "\n",
        "# Split data into training and testing sets\n",
        "X_train, X_test, y_train, y_test = train_test_split(X, y, test_size=0.2, random_state=42)\n",
        "\n",
        "# Create and train an XGBoost regressor\n",
        "xgb_regressor = xgb.XGBRegressor(objective='reg:squarederror', random_state=42)\n",
        "xgb_regressor.fit(X_train, y_train)\n",
        "\n",
        "# Make predictions on the test set\n",
        "y_pred = xgb_regressor.predict(X_test)\n",
        "\n",
        "# Evaluate the model using Mean Squared Error (MSE)\n",
        "mse = mean_squared_error(y_test, y_pred)\n",
        "print(\"XGBoost Regressor MSE:\", mse)"
      ],
      "metadata": {
        "colab": {
          "base_uri": "https://localhost:8080/"
        },
        "id": "4UBLyn_XdvIq",
        "outputId": "7366c933-0ff9-4bc2-f199-90b6966e9723"
      },
      "execution_count": null,
      "outputs": [
        {
          "output_type": "stream",
          "name": "stdout",
          "text": [
            "XGBoost Regressor MSE: 156.95755206635152\n"
          ]
        }
      ]
    },
    {
      "cell_type": "markdown",
      "source": [
        "**Q21. Train an AdaBoost Classifier and visualize feature importance**"
      ],
      "metadata": {
        "id": "2Eg4tU_tdyIf"
      }
    },
    {
      "cell_type": "code",
      "source": [
        "\n",
        "import matplotlib.pyplot as plt\n",
        "\n",
        "# Assuming X, y, X_train, X_test, y_train, y_test are defined and ada_boost_classifier is trained\n",
        "# from previous code blocks.  If not, uncomment and run the code from Q14:\n",
        "\n",
        "# # Generate a sample dataset\n",
        "# X, y = make_classification(n_samples=1000, n_features=10, n_informative=5, n_redundant=0, random_state=42)\n",
        "\n",
        "# # Split data into training and testing sets\n",
        "# X_train, X_test, y_train, y_test = train_test_split(X, y, test_size=0.2, random_state=42)\n",
        "\n",
        "# # Create and train an AdaBoost classifier\n",
        "# ada_boost_classifier = AdaBoostClassifier(random_state=42)\n",
        "# ada_boost_classifier.fit(X_train, y_train)\n",
        "\n",
        "\n",
        "# Get feature importances\n",
        "feature_importances = ada_boost_classifier.feature_importances_\n",
        "\n",
        "# Create a bar plot of feature importances\n",
        "plt.figure(figsize=(10, 6))\n",
        "plt.bar(range(X.shape[1]), feature_importances)\n",
        "plt.xlabel(\"Feature Index\")\n",
        "plt.ylabel(\"Feature Importance\")\n",
        "plt.title(\"AdaBoost Classifier Feature Importance\")\n",
        "plt.show()"
      ],
      "metadata": {
        "colab": {
          "base_uri": "https://localhost:8080/",
          "height": 584
        },
        "id": "0779Az8hd236",
        "outputId": "9b6ada5e-91a8-497f-afbb-a4d02cf000d1"
      },
      "execution_count": null,
      "outputs": [
        {
          "output_type": "display_data",
          "data": {
            "text/plain": [
              "<Figure size 1000x600 with 1 Axes>"
            ],
            "image/png": "[encoded data removed]"
          },
          "metadata": {}
        }
      ]
    },
    {
      "cell_type": "markdown",
      "source": [
        "**Q22. Train a Gradient Boosting Regressor and plot learning curves.**"
      ],
      "metadata": {
        "id": "d7iim_B7d8NI"
      }
    },
    {
      "cell_type": "code",
      "source": [
        "\n",
        "import matplotlib.pyplot as plt\n",
        "import numpy as np\n",
        "from sklearn.model_selection import learning_curve\n",
        "\n",
        "# Assuming X, y, X_train, X_test, y_train, y_test are defined from previous code blocks.\n",
        "# If not, create a sample dataset:\n",
        "# X, y = make_regression(n_samples=1000, n_features=10, n_informative=5, noise=0.1, random_state=42)\n",
        "# X_train, X_test, y_train, y_test = train_test_split(X, y, test_size=0.2, random_state=42)\n",
        "\n",
        "\n",
        "# Create and train a Gradient Boosting Regressor\n",
        "gbr = GradientBoostingRegressor(random_state=42)\n",
        "gbr.fit(X_train, y_train)\n",
        "\n",
        "train_sizes, train_scores, test_scores = learning_curve(\n",
        "    gbr, X, y, train_sizes=np.linspace(0.1, 1.0, 10), cv=5, scoring='r2', n_jobs=-1\n",
        ")\n",
        "\n",
        "\n",
        "train_mean = np.mean(train_scores, axis=1)\n",
        "train_std = np.std(train_scores, axis=1)\n",
        "test_mean = np.mean(test_scores, axis=1)\n",
        "test_std = np.std(test_scores, axis=1)\n",
        "\n",
        "plt.figure(figsize=(10, 6))\n",
        "plt.plot(train_sizes, train_mean, label=\"Training score\")\n",
        "plt.fill_between(train_sizes, train_mean - train_std, train_mean + train_std, alpha=0.1)\n",
        "plt.plot(train_sizes, test_mean, label=\"Cross-validation score\")\n",
        "plt.fill_between(train_sizes, test_mean - test_std, test_mean + test_std, alpha=0.1)\n",
        "plt.xlabel(\"Training examples\")\n",
        "plt.ylabel(\"R2 Score\")\n",
        "plt.title(\"Learning Curve for Gradient Boosting Regressor\")\n",
        "plt.legend(loc=\"best\")\n",
        "plt.grid()\n",
        "plt.show()"
      ],
      "metadata": {
        "id": "cTL692VgeMnm"
      },
      "execution_count": null,
      "outputs": []
    },
    {
      "cell_type": "markdown",
      "source": [
        "**Q23. Train an XGBoost Classifier and visualize feature importance.**"
      ],
      "metadata": {
        "id": "1_G3oshaeTgf"
      }
    },
    {
      "cell_type": "code",
      "source": [
        "\n",
        "import pandas as pd\n",
        "from sklearn.model_selection import train_test_split\n",
        "import xgboost as xgb\n",
        "import matplotlib.pyplot as plt\n",
        "\n",
        "# Load your data\n",
        "# Replace 'your_data.csv' with the actual path to your dataset file.\n",
        "# For example:\n",
        "# data = pd.read_csv('/content/sample_data/mnist_train_small.csv')  # If using Google Colab and the file is in the content folder\n",
        "# data = pd.read_csv('/content/sample_data/mnist_train_small.csv')  # If the file is in a 'data' subfolder\n",
        "# data = pd.read_csv('/content/sample_data/mnist_train_small.csv')  # Original line causing the error\n",
        "data = pd.read_csv('/content/sample_data/mnist_train_small.csv') # Replace with the correct path\n",
        "\n",
        "# Assuming your data has a column named 'target' for the target variable\n",
        "# **Check the actual name of your target variable column in your dataset**\n",
        "# **Replace '6' with the actual name if it's different.**\n",
        "X = data.drop('6', axis=1)  # Changed 'target' to '6'\n",
        "y = data['6']  # Changed 'target' to '6'\n",
        "\n",
        "# Split data into training and testing sets\n",
        "X_train, X_test, y_train, y_test = train_test_split(X, y, test_size=0.2, random_state=42)\n",
        "\n",
        "# Create and train an XGBoost classifier\n",
        "xgb_classifier = xgb.XGBClassifier(random_state=42)\n",
        "xgb_classifier.fit(X_train, y_train)\n",
        "\n",
        "# Get feature importances\n",
        "feature_importances = xgb_classifier.feature_importances_\n",
        "\n",
        "# Create a bar plot of feature importances\n",
        "plt.figure(figsize=(10, 6))\n",
        "plt.bar(range(X.shape[1]), feature_importances)\n",
        "plt.xticks(range(X.shape[1]), X.columns, rotation=90) # Use feature names for x-axis labels\n",
        "plt.xlabel(\"Feature\")\n",
        "plt.ylabel(\"Feature Importance\")\n",
        "plt.title(\"XGBoost Classifier Feature Importance\")\n",
        "plt.tight_layout() # Adjust layout to prevent labels from overlapping\n",
        "plt.show()"
      ],
      "metadata": {
        "id": "lVFsRPzbfPIs"
      },
      "execution_count": null,
      "outputs": []
    },
    {
      "cell_type": "markdown",
      "source": [
        "**Q24. Train a CatBoost Classifier and plot the confusion matrix.**"
      ],
      "metadata": {
        "id": "nGL_3w_oeO8-"
      }
    },
    {
      "cell_type": "code",
      "source": [
        "import matplotlib.pyplot as plt\n",
        "from sklearn.metrics import confusion_matrix\n",
        "import seaborn as sns\n",
        "from sklearn.datasets import make_classification # Import make_classification if not already imported\n",
        "from sklearn.model_selection import train_test_split # Import train_test_split if not already imported\n",
        "from catboost import CatBoostClassifier # Import CatBoostClassifier if not already imported\n",
        "\n",
        "\n",
        "# Generate or load a classification dataset (ensure 'y' is binary)\n",
        "# Example using make_classification:\n",
        "X, y = make_classification(n_samples=1000, n_features=10, n_informative=5, n_redundant=0, random_state=42)\n",
        "\n",
        "# Split data into training and testing sets\n",
        "X_train, X_test, y_train, y_test = train_test_split(X, y, test_size=0.2, random_state=42)\n",
        "\n",
        "# Create and train a CatBoost classifier\n",
        "catboost_classifier = CatBoostClassifier(iterations=100, random_state=42, verbose=0)\n",
        "catboost_classifier.fit(X_train, y_train)\n",
        "\n",
        "# Make predictions on the test set\n",
        "y_pred = catboost_classifier.predict(X_test)\n",
        "\n",
        "# Compute the confusion matrix\n",
        "cm = confusion_matrix(y_test, y_pred)\n",
        "\n",
        "# Plot the confusion matrix using seaborn\n",
        "plt.figure(figsize=(8, 6))\n",
        "sns.heatmap(cm, annot=True, fmt=\"d\", cmap=\"Blues\",\n",
        "            xticklabels=['Predicted 0', 'Predicted 1'],\n",
        "            yticklabels=['Actual 0', 'Actual 1'])\n",
        "plt.xlabel(\"Predicted Label\")\n",
        "plt.ylabel(\"True Label\")\n",
        "plt.title(\"Confusion Matrix for CatBoost Classifier\")\n",
        "plt.show()\n"
      ],
      "metadata": {
        "id": "ZZwLxEjzfU2d"
      },
      "execution_count": null,
      "outputs": []
    },
    {
      "cell_type": "markdown",
      "source": [
        "**Q25. Train an AdaBoost Classifier with different numbers of estimators and compare accuracy.**"
      ],
      "metadata": {
        "id": "KMWkD5pDelvW"
      }
    },
    {
      "cell_type": "code",
      "source": [
        "\n",
        "import pandas as pd\n",
        "from sklearn.model_selection import train_test_split\n",
        "from sklearn.ensemble import AdaBoostClassifier\n",
        "from sklearn.metrics import accuracy_score\n",
        "from sklearn.datasets import make_classification\n",
        "import matplotlib.pyplot as plt\n",
        "\n",
        "# Generate a sample dataset\n",
        "X, y = make_classification(n_samples=1000, n_features=10, n_informative=5, n_redundant=0, random_state=42)\n",
        "\n",
        "# Split data into training and testing sets\n",
        "X_train, X_test, y_train, y_test = train_test_split(X, y, test_size=0.2, random_state=42)\n",
        "\n",
        "# Number of estimators to test\n",
        "n_estimators_list = [50, 100, 200, 300, 500]\n",
        "accuracies = []\n",
        "\n",
        "for n_estimators in n_estimators_list:\n",
        "    # Create and train an AdaBoost classifier\n",
        "    ada_boost_classifier = AdaBoostClassifier(n_estimators=n_estimators, random_state=42)\n",
        "    ada_boost_classifier.fit(X_train, y_train)\n",
        "\n",
        "    # Make predictions on the test set\n",
        "    y_pred = ada_boost_classifier.predict(X_test)\n",
        "\n",
        "    # Evaluate the model's accuracy\n",
        "    accuracy = accuracy_score(y_test, y_pred)\n",
        "    accuracies.append(accuracy)\n",
        "    print(f\"AdaBoost Classifier Accuracy (n_estimators={n_estimators}):\", accuracy)\n",
        "\n",
        "# Plot the results\n",
        "plt.plot(n_estimators_list, accuracies, marker='o')\n",
        "plt.xlabel(\"Number of Estimators\")\n",
        "plt.ylabel(\"Accuracy\")\n",
        "plt.title(\"AdaBoost Classifier Accuracy vs. Number of Estimators\")\n",
        "plt.grid(True)\n",
        "plt.show()"
      ],
      "metadata": {
        "id": "ED2JnMlkemia"
      },
      "execution_count": null,
      "outputs": []
    },
    {
      "cell_type": "markdown",
      "source": [
        "**Q26. Train a Gradient Boosting Classifier and visualize the ROC curve.**"
      ],
      "metadata": {
        "id": "dz7ltiiLeu7u"
      }
    },
    {
      "cell_type": "code",
      "source": [
        "import matplotlib.pyplot as plt\n",
        "from sklearn.metrics import roc_curve, auc\n",
        "from sklearn.model_selection import train_test_split\n",
        "from sklearn.ensemble import GradientBoostingClassifier\n",
        "from sklearn.datasets import load_breast_cancer # Import load_breast_cancer\n",
        "\n",
        "\n",
        "# Load the breast cancer dataset (or use your intended dataset)\n",
        "data = load_breast_cancer()\n",
        "X, y = data.data, data.target\n",
        "\n",
        "# Split data into training and testing sets\n",
        "X_train, X_test, y_train, y_test = train_test_split(X, y, test_size=0.2, random_state=42)\n",
        "\n",
        "# Create and train a Gradient Boosting Classifier\n",
        "gbc = GradientBoostingClassifier(random_state=42)\n",
        "gbc.fit(X_train, y_train)\n",
        "\n",
        "# Predict probabilities for the positive class\n",
        "y_prob = gbc.predict_proba(X_test)[:, 1]\n",
        "\n",
        "# Compute ROC curve and AUC\n",
        "fpr, tpr, thresholds = roc_curve(y_test, y_prob)\n",
        "roc_auc = auc(fpr, tpr)\n",
        "\n",
        "# Plot ROC curve\n",
        "plt.figure(figsize=(8, 6))\n",
        "plt.plot(fpr, tpr, color='darkorange', lw=2, label=f'ROC curve (area = {roc_auc:.2f})')\n",
        "plt.plot([0, 1], [0, 1], color='navy', lw=2, linestyle='--')\n",
        "plt.xlim([0.0, 1.0])\n",
        "plt.ylim([0.0, 1.05])\n",
        "plt.xlabel('False Positive Rate')\n",
        "plt.ylabel('True Positive Rate')\n",
        "plt.title('Receiver Operating Characteristic (ROC) Curve')\n",
        "plt.legend(loc=\"lower right\")\n",
        "plt.show()"
      ],
      "metadata": {
        "id": "tIXLAm1Ce003"
      },
      "execution_count": null,
      "outputs": []
    },
    {
      "cell_type": "markdown",
      "source": [
        "**Q27. Train an XGBoost Regressor and tune the learning rate using GridSearchCV.**"
      ],
      "metadata": {
        "id": "SSv9D4Dfe-Ak"
      }
    },
    {
      "cell_type": "code",
      "source": [
        "\n",
        "from sklearn.model_selection import GridSearchCV\n",
        "\n",
        "# Assuming X, y, X_train, X_test, y_train, y_test are defined from previous code blocks.\n",
        "# If not, create a sample dataset:\n",
        "# X, y = make_regression(n_samples=1000, n_features=10, n_informative=5, noise=0.1, random_state=42)\n",
        "# X_train, X_test, y_train, y_test = train_test_split(X, y, test_size=0.2, random_state=42)\n",
        "\n",
        "\n",
        "# Create an XGBoost regressor\n",
        "xgb_regressor = xgb.XGBRegressor(objective='reg:squarederror', random_state=42)\n",
        "\n",
        "# Define the parameter grid for GridSearchCV\n",
        "param_grid = {\n",
        "    'learning_rate': [0.01, 0.1, 0.3, 0.5] # Example learning rates\n",
        "}\n",
        "\n",
        "# Create GridSearchCV object\n",
        "grid_search = GridSearchCV(xgb_regressor, param_grid, cv=5, scoring='neg_mean_squared_error')\n",
        "\n",
        "# Fit the GridSearchCV object to the data\n",
        "grid_search.fit(X_train, y_train)\n",
        "\n",
        "# Print the best hyperparameters and best score\n",
        "print(\"Best Hyperparameters:\", grid_search.best_params_)\n",
        "print(\"Best Score (Negative MSE):\", grid_search.best_score_)\n",
        "\n",
        "# Evaluate the best model on the test set\n",
        "best_xgb_regressor = grid_search.best_estimator_\n",
        "y_pred = best_xgb_regressor.predict(X_test)\n",
        "mse = mean_squared_error(y_test, y_pred)\n",
        "print(\"Test MSE:\", mse)"
      ],
      "metadata": {
        "id": "y5iaHR34fDFA"
      },
      "execution_count": null,
      "outputs": []
    },
    {
      "cell_type": "markdown",
      "source": [
        "**Q28. Train a CatBoost Classifier on an imbalanced dataset and compare performance with class weighting.**"
      ],
      "metadata": {
        "id": "14OMU0H-fYDR"
      }
    },
    {
      "cell_type": "code",
      "source": [
        "import numpy as np\n",
        "from sklearn.metrics import roc_curve, auc\n",
        "from sklearn.model_selection import GridSearchCV\n",
        "# Assuming you have an imbalanced dataset loaded into X and y\n",
        "# Example using make_classification with class imbalance:\n",
        "from sklearn.datasets import make_classification\n",
        "X, y = make_classification(n_samples=1000, n_features=10, n_informative=5, n_redundant=0, random_state=42, weights=[0.9,0.1]) # 90% in class 0, 10% in class 1\n",
        "\n",
        "\n",
        "# Split data into training and testing sets\n",
        "X_train, X_test, y_train, y_test = train_test_split(X, y, test_size=0.2, random_state=42, stratify=y) # Use stratify for imbalanced data\n",
        "\n",
        "# Train a CatBoost Classifier without class weights\n",
        "catboost_classifier = CatBoostClassifier(iterations=100, random_state=42, verbose=0)\n",
        "catboost_classifier.fit(X_train, y_train)\n",
        "y_pred = catboost_classifier.predict(X_test)\n",
        "f1_no_weights = f1_score(y_test, y_pred)\n",
        "print(f\"F1-score (no class weights): {f1_no_weights}\")\n",
        "\n",
        "\n",
        "# Calculate class weights based on the imbalance\n",
        "from sklearn.utils.class_weight import compute_class_weight\n",
        "class_weights = compute_class_weight('balanced', classes=np.unique(y_train), y=y_train)\n",
        "class_weights_dict = dict(enumerate(class_weights))\n",
        "\n",
        "# Train a CatBoost Classifier with class weights\n",
        "catboost_classifier_weighted = CatBoostClassifier(iterations=100, class_weights=class_weights_dict, random_state=42, verbose=0)\n",
        "catboost_classifier_weighted.fit(X_train, y_train)\n",
        "y_pred_weighted = catboost_classifier_weighted.predict(X_test)\n",
        "f1_weighted = f1_score(y_test, y_pred_weighted)\n",
        "print(f\"F1-score (with class weights): {f1_weighted}\")"
      ],
      "metadata": {
        "id": "jC2YVLwefbWb"
      },
      "execution_count": null,
      "outputs": []
    },
    {
      "cell_type": "markdown",
      "source": [
        "**Q29. Train an AdaBoost Classifier and analyze the effect of different learning rates.**"
      ],
      "metadata": {
        "id": "-ZzY8ZFzffcX"
      }
    },
    {
      "cell_type": "code",
      "source": [
        "from sklearn.ensemble import AdaBoostClassifier\n",
        "from sklearn.model_selection import train_test_split\n",
        "from sklearn.metrics import accuracy_score\n",
        "from sklearn.datasets import make_classification\n",
        "import matplotlib.pyplot as plt\n",
        "\n",
        "# Generate a sample dataset\n",
        "X, y = make_classification(n_samples=1000, n_features=10, n_informative=5, n_redundant=0, random_state=42)\n",
        "X_train, X_test, y_train, y_test = train_test_split(X, y, test_size=0.2, random_state=42)\n",
        "\n",
        "learning_rates = [0.01, 0.1, 0.5, 1, 2]\n",
        "accuracies = []\n",
        "\n",
        "for learning_rate in learning_rates:\n",
        "    # Create and train an AdaBoost classifier with different learning rates\n",
        "    ada_boost_classifier = AdaBoostClassifier(learning_rate=learning_rate, random_state=42)\n",
        "    ada_boost_classifier.fit(X_train, y_train)\n",
        "    y_pred = ada_boost_classifier.predict(X_test)\n",
        "    accuracy = accuracy_score(y_test, y_pred)\n",
        "    accuracies.append(accuracy)\n",
        "    print(f\"Learning rate: {learning_rate}, Accuracy: {accuracy}\")\n",
        "\n",
        "# Plot the accuracy for different learning rates\n",
        "plt.plot(learning_rates, accuracies, marker='o')\n",
        "plt.xlabel('Learning Rate')\n",
        "plt.ylabel('Accuracy')\n",
        "plt.title('AdaBoost Classifier Accuracy vs. Learning Rate')\n",
        "plt.grid(True)\n",
        "plt.show()"
      ],
      "metadata": {
        "colab": {
          "base_uri": "https://localhost:8080/",
          "height": 579
        },
        "id": "UnHWOSYMfp6s",
        "outputId": "8213f559-12c5-4d0b-be25-7324b93bb203"
      },
      "execution_count": null,
      "outputs": [
        {
          "output_type": "stream",
          "name": "stdout",
          "text": [
            "Learning rate: 0.01, Accuracy: 0.665\n",
            "Learning rate: 0.1, Accuracy: 0.725\n",
            "Learning rate: 0.5, Accuracy: 0.82\n",
            "Learning rate: 1, Accuracy: 0.83\n",
            "Learning rate: 2, Accuracy: 0.585\n"
          ]
        },
        {
          "output_type": "display_data",
          "data": {
            "text/plain": [
              "<Figure size 640x480 with 1 Axes>"
            ],
            "image/png": "[encoded data removed]"
          },
          "metadata": {}
        }
      ]
    },
    {
      "cell_type": "markdown",
      "source": [
        "**Q30. Train an XGBoost Classifier for multi-class classification and evaluate using log-loss.**"
      ],
      "metadata": {
        "id": "gzboJJUkf5BJ"
      }
    },
    {
      "cell_type": "code",
      "source": [
        "from sklearn.datasets import make_classification\n",
        "from sklearn.model_selection import train_test_split\n",
        "import xgboost as xgb\n",
        "from sklearn.metrics import log_loss\n",
        "\n",
        "# Generate a multi-class classification dataset\n",
        "X, y = make_classification(n_samples=1000, n_features=20, n_informative=10, n_classes=3, random_state=42)\n",
        "\n",
        "# Split data into training and testing sets\n",
        "X_train, X_test, y_train, y_test = train_test_split(X, y, test_size=0.2, random_state=42)\n",
        "\n",
        "# Create and train an XGBoost classifier\n",
        "xgb_classifier = xgb.XGBClassifier(objective='multi:softprob', num_class=3, random_state=42) # multi:softprob for probabilities\n",
        "xgb_classifier.fit(X_train, y_train)\n",
        "\n",
        "# Make predictions on the test set (probabilities for each class)\n",
        "y_pred_proba = xgb_classifier.predict_proba(X_test)\n",
        "\n",
        "# Evaluate the model using log-loss\n",
        "logloss = log_loss(y_test, y_pred_proba)\n",
        "print(\"XGBoost Classifier Log Loss:\", logloss)\n"
      ],
      "metadata": {
        "colab": {
          "base_uri": "https://localhost:8080/"
        },
        "id": "i2QoeEE1f-RS",
        "outputId": "5e56cb3a-6dc8-428b-f644-0829a931468b"
      },
      "execution_count": null,
      "outputs": [
        {
          "output_type": "stream",
          "name": "stdout",
          "text": [
            "XGBoost Classifier Log Loss: 0.40312915577356334\n"
          ]
        }
      ]
    }
  ]
}